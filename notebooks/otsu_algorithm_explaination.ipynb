{
 "cells": [
  {
   "cell_type": "markdown",
   "metadata": {},
   "source": [
    "### Otsu thresholding\n",
    "\n",
    "Otsu's thresholding method involves iterating through all the possible threshold values and calculating a measure of spread for the pixel levels each side of the threshold, i.e. the pixels that either fall in foreground or background. **The aim is to find the threshold value where the sum of foreground and background spreads is at its minimum.**\n",
    "\n",
    "$addr(M_{i_0,...,i_{M.dims-1}}) = M.data + M.step[0]*i_0 + M.step[1]*i_1 + ... + M.step[M.dims-1]*i_{M.dims-1}$\n",
    ">\n",
    "$addr(M_{i,j}) = M.data + M.step[0]*i + M.step[1]*j$"
   ]
  },
  {
   "cell_type": "markdown",
   "metadata": {},
   "source": [
    "## A Threshold Selection Method from Gray-Level Histograms\n",
    "#### Nobuyuki Otsu"
   ]
  },
  {
   "cell_type": "markdown",
   "metadata": {},
   "source": [
    "Let the pixels of a given picture be represented in $\\large L$ gray levels $\\large [1,2, \\ldots , L]$ The number of pixels at level $\\large i$ is denoted by $\\large n_i$ and the total number of pixels by $\\large N = n_1 \\space + n_2 + \\ldots + n_L \\space. $ In oder to simplify the discussion, the gray-level histogram is normalied and regarded as a probability distribution."
   ]
  },
  {
   "cell_type": "markdown",
   "metadata": {},
   "source": [
    "$$\\large p_i = \\frac{n_i}{N}, \\space p_i \\geq 0, \\space \\sum_{i=1}^L p_i = 1 \\longrightarrow (1)$$"
   ]
  },
  {
   "cell_type": "markdown",
   "metadata": {},
   "source": [
    "Now suppose that we dichotomize (divide in to two) the pixels in to two classes $\\large C_0$ and $\\large C_1$ (background and objects, or vice versa) by a threshold at level $\\large k$; $\\large C_0$ denotes pixels with levels $\\large [1, \\ldots, k]$ and $\\large C_1$ denotes pixels with levels $\\large [k+1,\\ldots, L]$. Then the probabilities of class occurrence and the class mean levels, respectively are given by"
   ]
  },
  {
   "cell_type": "markdown",
   "metadata": {},
   "source": [
    "$$\\large\\omega_0 = Pr(C_0) = \\sum_{i=1}^k  p_i = \\omega(k) \\longrightarrow (2)$$\n",
    "$$\\large\\omega_1 = Pr(C_1) = \\sum_{i=k+1}^L p_i = 1 - \\omega(k)  \\longrightarrow (3)$$"
   ]
  },
  {
   "cell_type": "markdown",
   "metadata": {},
   "source": [
    "and\n",
    "$$\\large \\mu_0 = \\sum_{i=1}^{k} i Pr(i\\Big|C_0) = \\sum_{i=1}^{k} i \\frac{p_i}{\\omega_0} = \\frac{\\mu(k)}{\\omega(k)} \\longrightarrow (4)$$\n",
    "$$\\large \\mu_1 = \\sum_{i=k+1}^{L} i Pr(i\\Big|C_1) = \\sum_{i=k+1}^{L} i \\frac{p_i}{\\omega_1} = \\frac{\\mu_T-\\mu(k)}{1 - \\omega(k)} \\longrightarrow (5)$$\n",
    "Where\n",
    "$$\\large \\omega(k) = \\sum_{i=1}^{k}P_i \\longrightarrow (6)$$\n",
    "and\n",
    "$$\\large \\mu(k) = \\sum_{i=1}^{k}ip_i \\longrightarrow (7)$$"
   ]
  },
  {
   "cell_type": "markdown",
   "metadata": {},
   "source": [
    "are the zeroth and the first-oder cumulative moments of the histogram up to the $\\large k^{th}$ level, respectively, and"
   ]
  },
  {
   "cell_type": "markdown",
   "metadata": {},
   "source": [
    "$$\\large \\mu_T = \\mu(L) = \\sum_{i=1}^{L}ip_i \\longrightarrow (8)$$"
   ]
  },
  {
   "cell_type": "markdown",
   "metadata": {},
   "source": [
    "$\\large \\mu_T$ is the total mean level of the original picture. We can easily verify the following relation for any choice of $\\large k$:"
   ]
  },
  {
   "cell_type": "markdown",
   "metadata": {},
   "source": [
    "$$\\large \\omega_0\\mu_0 \\space + \\space \\omega_1\\mu_1 \\space = \\space \\mu_T \\longrightarrow (9)$$\n",
    ">\n",
    "from $\\large (3)$ and $\\large (4)$ \n",
    ">\n",
    "$$\\large \\omega_0 + \\omega_1 = 1$$"
   ]
  },
  {
   "cell_type": "markdown",
   "metadata": {},
   "source": [
    "The class variances are given by\n",
    "$$\\large \\sigma_{0}^{2} = \\sum_{i=1}^{k}(i-\\mu_0)^2 Pr(i\\Big|C_0) = \\sum_{i=1}^{k}(i-\\mu_0)^2 \\frac{p_i}{\\omega_0} \\longrightarrow (10)$$\n",
    ">\n",
    ">\n",
    "$$\\large \\sigma_{1}^{2} = \\sum_{i=k+1}^{L}(i-\\mu_1)^2 Pr(i\\Big|C_1) = \\sum_{i=k+1}^{L}(i-\\mu_1)^2 \\frac{p_i}{\\omega_1} \\longrightarrow (11)$$"
   ]
  },
  {
   "cell_type": "markdown",
   "metadata": {},
   "source": [
    "These require second-order cumulative moments (statistics).\n",
    "</p>\n",
    "In order to evaluate the **\"goodnes\"** of the threshold (at level $\\large k$), we shall introduce the following discriminant criterion measures (or measures of class separability) used in the discriminant analysis."
   ]
  },
  {
   "cell_type": "markdown",
   "metadata": {},
   "source": [
    "$$\\large \\lambda = \\frac{\\sigma_{B}^2}{\\sigma_{w}^2}, \\space \\space k = \\frac{\\sigma_{T}^{2}}{\\sigma_{w}^{2}} , \\space \\space \\eta = \\frac{\\sigma_{B}^2}{\\sigma_{T}^2} \\longrightarrow (12)$$\n",
    "Where\n",
    "$$\\large \\sigma_{w}^2 = \\omega_0\\sigma_0^2 + \\omega_1\\sigma_1^2 \\longrightarrow (13)$$\n",
    "</p>\n",
    "$$\\large \\sigma_B^2 = \\omega_0(\\mu_0-\\mu_T)^2 + \\omega_1(\\mu_1-\\mu_T)^2 = \\omega_0\\omega_1(\\mu_1-\\mu_0)^2 \\longrightarrow (14)$$"
   ]
  },
  {
   "cell_type": "markdown",
   "metadata": {},
   "source": [
    "from $\\large (9)$ \n",
    "$$\\large \\sigma_T^2 = \\sum_{i=1}^{L}(i - \\mu_T)^2 p_i \\longrightarrow (15)$$"
   ]
  },
  {
   "cell_type": "markdown",
   "metadata": {},
   "source": [
    "are the within-class variance, the between-class variance, and the total variance of levels, respectively. Then our problem is reduced to an optimization problem to search for threshold $\\large k$ that maximizes one of the object functions (the criteion measures) in $\\large (12)$. \n",
    "</p>\n",
    "This standpoint is motivated by a conjecture that well-thresholded classes would be separated in gray levels, and conversly, a threshold giving the best separation of classes in gray levels would be the best threshold.\n",
    "</p>\n",
    "The discriminant criteria maximizing $\\large \\lambda, k \\text{ and } \\eta$, respectively for $\\large k$ are, however, equivalent to one another.\n",
    "\n",
    "**Example:**\n",
    "</p>\n",
    "$\\large k = \\lambda + 1 $ and $\\large \\eta = \\frac{\\lambda}{\\lambda+1}$ in terms of $\\large \\lambda$, because the following basic relation always holds\n",
    "\n",
    "$$\\large \\sigma_w^2 + \\sigma_B^2 = \\sigma_T^2 \\longrightarrow (16)$$"
   ]
  },
  {
   "cell_type": "markdown",
   "metadata": {},
   "source": [
    "It is noticed that $\\large \\sigma_w^2$ and $\\large \\sigma_B^2$ are functions of threshold level $\\large k$, but $\\large \\sigma_T^2$ is independent of $\\large k$.\n",
    "</p>\n",
    "It is also noted that $\\large \\sigma_w^2$ is based on second-order statistics (class variances), while $\\large \\sigma_B^2$ is based on the first-order statistics (class means). Therefore, $\\large \\eta$ is the simplest measure with respect to $\\large k$. Thus we adopt $\\large \\eta$ as the criterion measure to evaluate the \"goodness\" (or separability) of the threshold at level $\\large k$."
   ]
  },
  {
   "cell_type": "markdown",
   "metadata": {},
   "source": [
    "The optimal threshold $\\large k^*$ that maximizes $\\large \\eta$, or equivalently maximizes $\\large \\sigma_B^2$, is selected in the following sequential search by using the simple cumulative quantities $\\large (6)$ and $\\large (7)$, or explicitly using $\\large (2) - (5)$"
   ]
  },
  {
   "cell_type": "markdown",
   "metadata": {},
   "source": [
    "$$\\large \\eta(k) = \\frac{\\sigma_B^2(k)}{\\sigma_T^2} \\longrightarrow (17)$$\n",
    ">"
   ]
  },
  {
   "cell_type": "markdown",
   "metadata": {},
   "source": [
    ">\n",
    "$$\\large \\sigma_B^2(k) = \\frac{[\\mu_T\\omega(k) - \\mu(k)]^2}{\\omega(k)[1-\\omega(k)]} \\longrightarrow (18)$$"
   ]
  },
  {
   "cell_type": "markdown",
   "metadata": {},
   "source": [
    "and the optimal threshold $\\large k^*$ is \n",
    "</p>\n",
    "$$\\large \\sigma_B^2(k^*) = \\underset{1 \\space \\leq \\space k \\space < \\space L} {max} \\sigma_B^2(k) \\longrightarrow (19)$$"
   ]
  },
  {
   "cell_type": "markdown",
   "metadata": {},
   "source": [
    "From the problem, the range of $\\large k$ over which the maximum is sought can be restricted to \n",
    "</p>\n",
    "\n",
    "$$\\large S^* = \\Big\\{ k; \\space \\omega_0\\omega_1 = \\omega(k)[1-\\omega(k)] > 0, \\text{ or } 0 < \\omega(k) < 1 \\Big\\} $$"
   ]
  },
  {
   "cell_type": "markdown",
   "metadata": {},
   "source": [
    "We shall call it the effective range of the gray-level histogram. From the definition in $\\large (14) $, the criterion measure $\\large \\sigma_B^2$ (or $\\large \\eta$) takes a minimum value of zero for such $\\large k \\text { as } k \\in S - S^* = \\{k; \\omega(k) = 0 \\text{ or } 1 \\} $"
   ]
  },
  {
   "cell_type": "markdown",
   "metadata": {},
   "source": [
    "i.e., making all pixesl either $\\large C_1$ or $\\large C_0$"
   ]
  },
  {
   "cell_type": "code",
   "execution_count": null,
   "metadata": {},
   "outputs": [],
   "source": []
  }
 ],
 "metadata": {
  "kernelspec": {
   "display_name": "py37_django",
   "language": "python",
   "name": "py37_django"
  },
  "language_info": {
   "codemirror_mode": {
    "name": "ipython",
    "version": 3
   },
   "file_extension": ".py",
   "mimetype": "text/x-python",
   "name": "python",
   "nbconvert_exporter": "python",
   "pygments_lexer": "ipython3",
   "version": "3.7.1"
  }
 },
 "nbformat": 4,
 "nbformat_minor": 2
}
