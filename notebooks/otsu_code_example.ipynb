{
 "cells": [
  {
   "cell_type": "code",
   "execution_count": 1,
   "metadata": {},
   "outputs": [],
   "source": [
    "import numpy as np\n",
    "import matplotlib.pyplot as plt\n",
    "from matplotlib.table import Table"
   ]
  },
  {
   "cell_type": "code",
   "execution_count": 2,
   "metadata": {},
   "outputs": [
    {
     "data": {
      "text/plain": [
       "(0, 5)"
      ]
     },
     "execution_count": 2,
     "metadata": {},
     "output_type": "execute_result"
    }
   ],
   "source": [
    "gray_levels = np.array(range(0,6))\n",
    "max_gray_level = gray_levels[5]\n",
    "min_gray_level = gray_levels[0]\n",
    "min_gray_level,max_gray_level"
   ]
  },
  {
   "cell_type": "code",
   "execution_count": 3,
   "metadata": {},
   "outputs": [],
   "source": [
    "def DrawTable(mat, normalized=False):\n",
    "    fig, ax = plt.subplots()\n",
    "    ax.set_axis_off()\n",
    "    colors = plt.cm.binary_r(np.linspace(0, 1, max_gray_level+1))\n",
    "    tb = Table(ax, bbox=[0, 0, 1, 1])\n",
    "    nrows, ncols = mat.shape\n",
    "    width, height = 1.0 / ncols, 1.0 / nrows\n",
    "\n",
    "    # Add cells\n",
    "    for (i,j), val in np.ndenumerate(mat):\n",
    "        if normalized:\n",
    "            index = int(round(mat[i][j]*max_gray_level,0))\n",
    "            #print(f'index = {index}')\n",
    "        else:\n",
    "            index = mat[i][j]\n",
    "        tb.add_cell(i, j, width, height, text=round(val,1),loc='center', facecolor=colors[index])\n",
    "        tb._cells[(i, j)]._text.set_color(colors[~index])\n",
    "        tb._cells[(i, j)]._text.set_fontsize(14)\n",
    "\n",
    "    ax.add_table(tb)\n",
    "    plt.show()\n",
    "    "
   ]
  },
  {
   "cell_type": "code",
   "execution_count": 4,
   "metadata": {},
   "outputs": [],
   "source": [
    "def GetTestArray():\n",
    "    return np.array([0,0,0,5,4,0,0,3,3,2,0,5,5,0,0,4,4,4,0,0,3,5,1,1,0]).reshape(max_gray_level,max_gray_level)"
   ]
  },
  {
   "cell_type": "code",
   "execution_count": 5,
   "metadata": {},
   "outputs": [
    {
     "data": {
      "image/png": "[encoded data removed]",
      "text/plain": [
       "<Figure size 432x288 with 1 Axes>"
      ]
     },
     "metadata": {
      "needs_background": "light"
     },
     "output_type": "display_data"
    },
    {
     "data": {
      "image/png": "[encoded data removed]",
      "text/plain": [
       "<Figure size 432x288 with 1 Axes>"
      ]
     },
     "metadata": {
      "needs_background": "light"
     },
     "output_type": "display_data"
    }
   ],
   "source": [
    "plt.hist(GetTestArray().flatten())\n",
    "plt.show()\n",
    "DrawTable(GetTestArray())"
   ]
  },
  {
   "cell_type": "code",
   "execution_count": 6,
   "metadata": {},
   "outputs": [],
   "source": [
    "def GetPixelCount(PrintVal=False):\n",
    "    from collections import Counter\n",
    "    pixel_dict = Counter(GetTestArray().flatten())\n",
    "    if PrintVal:\n",
    "        print('GrayLevel \\t count')\n",
    "        for val in  gray_levels:\n",
    "            print(f'  {val} \\t \\t  {pixel_dict[val]}')\n",
    "    return pixel_dict"
   ]
  },
  {
   "cell_type": "code",
   "execution_count": 7,
   "metadata": {},
   "outputs": [],
   "source": [
    "def Threshold(k=0,normalized=False):\n",
    "    test = GetTestArray()\n",
    "    if k > 0:\n",
    "        for (i,j), val in np.ndenumerate(test):\n",
    "            if test[i][j] >= k:\n",
    "                test[i][j] = max_gray_level\n",
    "            else:\n",
    "                test[i][j] = min_gray_level\n",
    "    if normalized:\n",
    "        norm_test = test/max_gray_level\n",
    "        DrawTable(norm_test,normalized=True)\n",
    "    else:\n",
    "        DrawTable(test)\n",
    "    return test"
   ]
  },
  {
   "cell_type": "code",
   "execution_count": 8,
   "metadata": {},
   "outputs": [],
   "source": [
    "#Threshold()"
   ]
  },
  {
   "cell_type": "code",
   "execution_count": 9,
   "metadata": {},
   "outputs": [],
   "source": [
    "#Threshold(normalized=True)"
   ]
  },
  {
   "cell_type": "code",
   "execution_count": 10,
   "metadata": {},
   "outputs": [],
   "source": [
    "#Threshold(3)"
   ]
  },
  {
   "cell_type": "code",
   "execution_count": 11,
   "metadata": {},
   "outputs": [],
   "source": [
    "#Threshold(3,True)"
   ]
  },
  {
   "cell_type": "code",
   "execution_count": 12,
   "metadata": {},
   "outputs": [],
   "source": [
    "#Threshold(4)"
   ]
  },
  {
   "cell_type": "code",
   "execution_count": 13,
   "metadata": {},
   "outputs": [],
   "source": [
    "#Threshold(4,True)"
   ]
  },
  {
   "cell_type": "code",
   "execution_count": 14,
   "metadata": {},
   "outputs": [],
   "source": [
    "#GetPixelCount()"
   ]
  },
  {
   "cell_type": "code",
   "execution_count": 15,
   "metadata": {},
   "outputs": [],
   "source": [
    "#GetPixelCount(PrintVal=True)"
   ]
  },
  {
   "cell_type": "code",
   "execution_count": 16,
   "metadata": {},
   "outputs": [],
   "source": [
    "def GetProbabilityDistribution(k=3, Normalize=False,PrintVal=False):\n",
    "    from collections import Counter\n",
    "    if Normalize:\n",
    "        test = Threshold(k)\n",
    "    else:\n",
    "        test = GetTestArray()\n",
    "    pixel_dict = Counter(test.flatten())\n",
    "    prob_dict = {}\n",
    "    if PrintVal:\n",
    "        print('GrayLevel \\t Probability')\n",
    "    for val in  gray_levels:\n",
    "        prob = pixel_dict[val]/(test.shape[0]*test.shape[1])\n",
    "        prob_dict[val] = prob\n",
    "        if PrintVal:\n",
    "            print(f'  {val} \\t \\t  {prob}')\n",
    "    return prob_dict"
   ]
  },
  {
   "cell_type": "code",
   "execution_count": 17,
   "metadata": {},
   "outputs": [],
   "source": [
    "#GetProbabilityDistribution(PrintVal=True)\n",
    "#GetProbabilityDistribution()"
   ]
  },
  {
   "cell_type": "markdown",
   "metadata": {},
   "source": [
    "Now let us prove the following equation\n",
    "$$\\large p_i = \\frac{n_i}{N}, \\space p_i \\geq 0, \\space \\sum_{i=1}^L p_i = 1 \\longrightarrow (1)$$"
   ]
  },
  {
   "cell_type": "code",
   "execution_count": 18,
   "metadata": {},
   "outputs": [
    {
     "name": "stdout",
     "output_type": "stream",
     "text": [
      "prob = [0.44, 0.08, 0.04, 0.12, 0.16, 0.16]\n",
      "sum of prob = 1.0\n"
     ]
    }
   ],
   "source": [
    "key, prob = zip(*GetProbabilityDistribution().items())\n",
    "prob = list(prob)\n",
    "print(f'prob = {prob}')\n",
    "print(f'sum of prob = {sum(prob)}')"
   ]
  },
  {
   "cell_type": "code",
   "execution_count": 19,
   "metadata": {},
   "outputs": [],
   "source": [
    "#th = Threshold(k=3,normalized=True)\n",
    "#GetProbabilityDistribution(PrintVal=True)"
   ]
  },
  {
   "cell_type": "markdown",
   "metadata": {},
   "source": [
    "$$\\large\\omega_0 = Pr(C_0) = \\sum_{i=1}^k  p_i = \\omega(k) \\longrightarrow (2)$$\n",
    "$$\\large\\omega_1 = Pr(C_1) = \\sum_{i=k+1}^L p_i = 1 - \\omega(k)  \\longrightarrow (3)$$"
   ]
  },
  {
   "cell_type": "code",
   "execution_count": 20,
   "metadata": {},
   "outputs": [
    {
     "data": {
      "image/png": "[encoded data removed]",
      "text/plain": [
       "<Figure size 432x288 with 1 Axes>"
      ]
     },
     "metadata": {
      "needs_background": "light"
     },
     "output_type": "display_data"
    }
   ],
   "source": [
    "k = 3\n",
    "prob_dict_norm = GetProbabilityDistribution(k,Normalize=True)"
   ]
  },
  {
   "cell_type": "code",
   "execution_count": 21,
   "metadata": {},
   "outputs": [
    {
     "data": {
      "text/plain": [
       "((0, 1, 2, 3, 4, 5), (0.56, 0.0, 0.0, 0.0, 0.0, 0.44))"
      ]
     },
     "execution_count": 21,
     "metadata": {},
     "output_type": "execute_result"
    }
   ],
   "source": [
    "keys, values = zip(*prob_dict_norm.items())\n",
    "keys,values"
   ]
  },
  {
   "cell_type": "code",
   "execution_count": 22,
   "metadata": {},
   "outputs": [
    {
     "data": {
      "text/plain": [
       "(0.56, 0.44)"
      ]
     },
     "execution_count": 22,
     "metadata": {},
     "output_type": "execute_result"
    }
   ],
   "source": [
    "values = list(values)\n",
    "omega_0 = values[0]\n",
    "omega_1 = values[5]\n",
    "omega_0,omega_1"
   ]
  },
  {
   "cell_type": "code",
   "execution_count": 23,
   "metadata": {},
   "outputs": [
    {
     "data": {
      "text/latex": [
       "$$\\large \\sum_0^3 p_i = \\omega_0 = 0.56 \\longrightarrow (2)$$"
      ],
      "text/plain": [
       "<IPython.core.display.Math object>"
      ]
     },
     "metadata": {},
     "output_type": "display_data"
    },
    {
     "data": {
      "text/latex": [
       "$$\\large \\sum_3^5 p_i = \\omega_1 = 0.44 \\longrightarrow (3)$$"
      ],
      "text/plain": [
       "<IPython.core.display.Math object>"
      ]
     },
     "metadata": {},
     "output_type": "display_data"
    }
   ],
   "source": [
    "from IPython.display import display, Math\n",
    "\n",
    "display(Math(r'\\large \\sum_{}^{} p_i = \\omega_0 = {} \\longrightarrow (2)'.format(min_gray_level, k, omega_0)))\n",
    "display(Math(r'\\large \\sum_{}^{} p_i = \\omega_1 = {} \\longrightarrow (3)'.format(k, max_gray_level, omega_1)))"
   ]
  },
  {
   "cell_type": "markdown",
   "metadata": {},
   "source": [
    "Let us now solve for equation 4 and 5"
   ]
  },
  {
   "cell_type": "markdown",
   "metadata": {},
   "source": [
    "$$\\large \\mu_0 = \\sum_{i=1}^{k} i Pr(i\\Big|C_0) = \\sum_{i=1}^{k} i \\frac{p_i}{\\omega_0} = \\frac{\\mu(k)}{\\omega(k)} \\longrightarrow (4)$$\n",
    "$$\\large \\mu_1 = \\sum_{i=k+1}^{L} i Pr(i\\Big|C_1) = \\sum_{i=k+1}^{L} i \\frac{p_i}{\\omega_1} = \\frac{\\mu_T-\\mu(k)}{1 - \\omega(k)} \\longrightarrow (5)$$\n",
    "\n",
    "### Where\n",
    "\n",
    "$\\large \\omega(k) = \\sum_{i=1}^{k}P_i \\longrightarrow (6)$\n",
    "\n",
    "$\\large \\mu(k) = \\sum_{i=1}^{k}ip_i \\longrightarrow (7)$\n",
    "\n",
    "$\\large \\mu_T = \\mu(L) = \\sum_{i=1}^{L}ip_i \\longrightarrow (8)$"
   ]
  },
  {
   "cell_type": "code",
   "execution_count": 24,
   "metadata": {},
   "outputs": [],
   "source": [
    "prob_dict_not_normalized = GetProbabilityDistribution(k,Normalize=False)"
   ]
  },
  {
   "cell_type": "code",
   "execution_count": 25,
   "metadata": {},
   "outputs": [],
   "source": [
    "intensity, prob = zip(*prob_dict_not_normalized.items())\n",
    "intensity = list(intensity)\n",
    "prob = list(prob)"
   ]
  },
  {
   "cell_type": "code",
   "execution_count": 62,
   "metadata": {},
   "outputs": [],
   "source": [
    "def GetMean(k):\n",
    "    mu = 0.0\n",
    "    for val in GetTestArray().flatten():\n",
    "        if val == k:\n",
    "            break\n",
    "        else:\n",
    "            mu += prob[val]*val\n",
    "    return mu"
   ]
  },
  {
   "cell_type": "code",
   "execution_count": 62,
   "metadata": {},
   "outputs": [],
   "source": [
    "def GetMuValNew(k):\n",
    "    mu = 0\n",
    "    for val in GetTestArray().flatten():\n",
    "        if val == k:\n",
    "            break\n",
    "        else:\n",
    "            mu += prob[val]*val\n",
    "    return mu"
   ]
  },
  {
   "cell_type": "code",
   "execution_count": 56,
   "metadata": {},
   "outputs": [],
   "source": [
    "def GetMuValOld(k):\n",
    "    mu = 0\n",
    "    for i, val in enumerate(gray_levels):\n",
    "        if i == k:\n",
    "            pass\n",
    "        else:\n",
    "            mu += prob[i]*intensity[i]\n",
    "    return mu"
   ]
  },
  {
   "cell_type": "code",
   "execution_count": 57,
   "metadata": {},
   "outputs": [
    {
     "data": {
      "text/plain": [
       "1.44"
      ]
     },
     "execution_count": 57,
     "metadata": {},
     "output_type": "execute_result"
    }
   ],
   "source": [
    "mu_k = GetMuValNew(k)\n",
    "mu_k"
   ]
  },
  {
   "cell_type": "code",
   "execution_count": 58,
   "metadata": {},
   "outputs": [
    {
     "data": {
      "text/plain": [
       "1.9600000000000002"
      ]
     },
     "execution_count": 58,
     "metadata": {},
     "output_type": "execute_result"
    }
   ],
   "source": [
    "mu_T = GetMuVal(max_gray_level+1)\n",
    "mu_T"
   ]
  },
  {
   "cell_type": "code",
   "execution_count": 59,
   "metadata": {},
   "outputs": [],
   "source": [
    "#mean of zero\n",
    "mu_0 = mu_k/omega_0\n",
    "#mean of one\n",
    "mu_1 = (mu_T - mu_k)/(1 - omega_0)"
   ]
  },
  {
   "cell_type": "code",
   "execution_count": 67,
   "metadata": {},
   "outputs": [
    {
     "data": {
      "text/latex": [
       "$$\\large \\mu_k = 1.44, \\space \\mu_T = 1.96, \\space \\mu_0 = 2.57, \\space \\mu_1 = 1.18$$"
      ],
      "text/plain": [
       "<IPython.core.display.Math object>"
      ]
     },
     "metadata": {},
     "output_type": "display_data"
    }
   ],
   "source": [
    "display(Math(r'\\large \\mu_k = {}, \\space \\mu_T = {}, \\space \\mu_0 = {}, \\space \\mu_1 = {}'.format(round(mu_k,2), round(mu_T,2), round(mu_0,2), round(mu_1,2))))"
   ]
  },
  {
   "cell_type": "markdown",
   "metadata": {},
   "source": [
    "### Alternate way to calculate $\\mu_T$\n",
    "$$\\large \\omega_0\\mu_0 \\space + \\space \\omega_1\\mu_1 \\space = \\space \\mu_T \\longrightarrow (9)$$"
   ]
  },
  {
   "cell_type": "code",
   "execution_count": 61,
   "metadata": {},
   "outputs": [
    {
     "data": {
      "text/plain": [
       "1.96"
      ]
     },
     "execution_count": 61,
     "metadata": {},
     "output_type": "execute_result"
    }
   ],
   "source": [
    "new_mu_t = round(omega_0 * mu_0 + omega_1 * mu_1,2)\n",
    "new_mu_t"
   ]
  },
  {
   "cell_type": "markdown",
   "metadata": {},
   "source": [
    "$$\\large \\sigma_{0}^{2} = \\sum_{i=1}^{k}(i-\\mu_0)^2 Pr(i\\Big|C_0) = \\sum_{i=1}^{k}(i-\\mu_0)^2 \\frac{p_i}{\\omega_0} \\longrightarrow (10)$$\n",
    ">\n",
    ">\n",
    "$$\\large \\sigma_{1}^{2} = \\sum_{i=k+1}^{L}(i-\\mu_1)^2 Pr(i\\Big|C_1) = \\sum_{i=k+1}^{L}(i-\\mu_1)^2 \\frac{p_i}{\\omega_1} \\longrightarrow (11)$$"
   ]
  },
  {
   "cell_type": "code",
   "execution_count": 64,
   "metadata": {},
   "outputs": [],
   "source": [
    "def GetVariance(k, mu, omega):\n",
    "    #prob_dict = GetProbabilityDistribution()\n",
    "    variance = 0.\n",
    "    for val in GetTestArray().flatten():\n",
    "        if val == k:\n",
    "            pass\n",
    "        else:\n",
    "            variance += ((val - mu)**2)*prob[val]/omega\n",
    "    return variance    "
   ]
  },
  {
   "cell_type": "code",
   "execution_count": 66,
   "metadata": {},
   "outputs": [
    {
     "data": {
      "text/plain": [
       "66.95043731778426"
      ]
     },
     "execution_count": 66,
     "metadata": {},
     "output_type": "execute_result"
    }
   ],
   "source": [
    "GetVariance(3,mu_0,omega_0)"
   ]
  },
  {
   "cell_type": "code",
   "execution_count": null,
   "metadata": {},
   "outputs": [],
   "source": [
    "GetVariance()"
   ]
  }
 ],
 "metadata": {
  "kernelspec": {
   "display_name": "py37_django",
   "language": "python",
   "name": "py37_django"
  },
  "language_info": {
   "codemirror_mode": {
    "name": "ipython",
    "version": 3
   },
   "file_extension": ".py",
   "mimetype": "text/x-python",
   "name": "python",
   "nbconvert_exporter": "python",
   "pygments_lexer": "ipython3",
   "version": "3.7.1"
  }
 },
 "nbformat": 4,
 "nbformat_minor": 2
}
